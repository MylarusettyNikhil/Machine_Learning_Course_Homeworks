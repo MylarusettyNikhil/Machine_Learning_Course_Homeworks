{
 "cells": [
  {
   "cell_type": "code",
   "execution_count": 28,
   "id": "ec1b45fd",
   "metadata": {},
   "outputs": [],
   "source": [
    "import pandas as pd\n",
    "import numpy as np\n",
    "import matplotlib.pyplot as plt"
   ]
  },
  {
   "cell_type": "code",
   "execution_count": 29,
   "id": "48f4b7cc",
   "metadata": {},
   "outputs": [],
   "source": [
    "data = pd.read_csv(\"student_scores.csv\")"
   ]
  },
  {
   "cell_type": "code",
   "execution_count": 30,
   "id": "09e1399c",
   "metadata": {},
   "outputs": [],
   "source": [
    "X = data.iloc[:, :-1].values\n",
    "y = data.iloc[:, -1].values"
   ]
  },
  {
   "cell_type": "code",
   "execution_count": 31,
   "id": "44a604c3",
   "metadata": {},
   "outputs": [],
   "source": [
    "from sklearn.linear_model import LinearRegression"
   ]
  },
  {
   "cell_type": "code",
   "execution_count": 32,
   "id": "40c4abf5",
   "metadata": {},
   "outputs": [
    {
     "name": "stdout",
     "output_type": "stream",
     "text": [
      "Coefficients:  [9.77580339]\n",
      "Intercept:  2.48367340537321\n"
     ]
    }
   ],
   "source": [
    "#Basically, here we are fitting the linear regression model using OLS\n",
    "regressor = LinearRegression()\n",
    "regressor.fit(X, y)\n",
    "#Here we can print the coefficents and intercepts\n",
    "print(\"Coefficients: \", regressor.coef_)\n",
    "print(\"Intercept: \", regressor.intercept_)"
   ]
  },
  {
   "cell_type": "code",
   "execution_count": 33,
   "id": "7a32032a",
   "metadata": {},
   "outputs": [],
   "source": [
    "#I am predicting the target variable here\n",
    "y_pred = regressor.predict(X)"
   ]
  },
  {
   "cell_type": "code",
   "execution_count": 34,
   "id": "5e7ecebc",
   "metadata": {},
   "outputs": [],
   "source": [
    "# I am extracting the x and y values\n",
    "X = data['Hours'].values\n",
    "y = data['Scores'].values"
   ]
  },
  {
   "cell_type": "code",
   "execution_count": 35,
   "id": "7301e47f",
   "metadata": {},
   "outputs": [],
   "source": [
    "# Define the OLS function to calculate the slope and intercept\n",
    "def ols(X, y):\n",
    "    n = len(X)\n",
    "    sum_x = np.sum(X)\n",
    "    sum_y = np.sum(y)\n",
    "    sum_xx = np.sum(X*X)\n",
    "    sum_xy = np.sum(X*y)\n",
    "\n",
    "    numerator = sum_xy - (sum_x*sum_y)/n\n",
    "    denominator = sum_xx - ((sum_x*sum_x)/n)\n",
    "\n",
    "    m = numerator/denominator\n",
    "    b = np.mean(y) - m*np.mean(X)\n",
    "\n",
    "    return m, b"
   ]
  },
  {
   "cell_type": "code",
   "execution_count": 36,
   "id": "b0343397",
   "metadata": {},
   "outputs": [],
   "source": [
    "# Calculate the slope and intercept using OLS\n",
    "m, b = ols(X, y)"
   ]
  },
  {
   "cell_type": "code",
   "execution_count": 37,
   "id": "998d063d",
   "metadata": {},
   "outputs": [
    {
     "data": {
      "image/png": "[encoded data removed]",
      "text/plain": [
       "<Figure size 576x432 with 1 Axes>"
      ]
     },
     "metadata": {
      "needs_background": "light"
     },
     "output_type": "display_data"
    }
   ],
   "source": [
    "#Created a function to create least sqaures count\n",
    "def plot_least_squares_line(X, y, m, b):\n",
    "    # Create a scatter plot of the data\n",
    "    fig, ax = plt.subplots(figsize=(8, 6))\n",
    "    ax.scatter(X, y, color='blue', s=50)\n",
    "    \n",
    "    # Create the least squares line\n",
    "    line_X = np.arange(min(X), max(X), 0.1)\n",
    "    line_y = m*line_X + b\n",
    "    \n",
    "    # Plot the least squares line\n",
    "    ax.plot(line_X, line_y, color='green', linewidth=2)\n",
    "    \n",
    "    # Add title and axis labels\n",
    "    ax.set_title(f'Linear Regression, m = {m:.2f}, b = {b:.2f}', fontsize=18, fontweight='bold')\n",
    "    ax.set_xlabel('Hours', fontsize=14)\n",
    "    ax.set_ylabel('Scores', fontsize=14)\n",
    "\n",
    "    plt.show()\n",
    "\n",
    "# Plot the least squares line\n",
    "plot_least_squares_line(X, y, m, b)\n"
   ]
  },
  {
   "cell_type": "code",
   "execution_count": 38,
   "id": "a5c6c11b",
   "metadata": {},
   "outputs": [],
   "source": [
    "import statsmodels.api as sm"
   ]
  },
  {
   "cell_type": "code",
   "execution_count": 39,
   "id": "ec1e154c",
   "metadata": {},
   "outputs": [],
   "source": [
    "x_list = data['Hours'].tolist()\n",
    "y_list = data['Scores'].tolist() \n",
    "x_list = sm.add_constant(x_list)"
   ]
  },
  {
   "cell_type": "code",
   "execution_count": 40,
   "id": "3c594300",
   "metadata": {},
   "outputs": [],
   "source": [
    "model = sm.OLS(y_list, x_list).fit()"
   ]
  },
  {
   "cell_type": "code",
   "execution_count": 41,
   "id": "040eef66",
   "metadata": {},
   "outputs": [
    {
     "data": {
      "text/html": [
       "<table class=\"simpletable\">\n",
       "<caption>OLS Regression Results</caption>\n",
       "<tr>\n",
       "  <th>Dep. Variable:</th>            <td>y</td>        <th>  R-squared:         </th> <td>   0.953</td>\n",
       "</tr>\n",
       "<tr>\n",
       "  <th>Model:</th>                   <td>OLS</td>       <th>  Adj. R-squared:    </th> <td>   0.951</td>\n",
       "</tr>\n",
       "<tr>\n",
       "  <th>Method:</th>             <td>Least Squares</td>  <th>  F-statistic:       </th> <td>   465.8</td>\n",
       "</tr>\n",
       "<tr>\n",
       "  <th>Date:</th>             <td>Wed, 10 May 2023</td> <th>  Prob (F-statistic):</th> <td>9.13e-17</td>\n",
       "</tr>\n",
       "<tr>\n",
       "  <th>Time:</th>                 <td>20:50:12</td>     <th>  Log-Likelihood:    </th> <td> -77.514</td>\n",
       "</tr>\n",
       "<tr>\n",
       "  <th>No. Observations:</th>      <td>    25</td>      <th>  AIC:               </th> <td>   159.0</td>\n",
       "</tr>\n",
       "<tr>\n",
       "  <th>Df Residuals:</th>          <td>    23</td>      <th>  BIC:               </th> <td>   161.5</td>\n",
       "</tr>\n",
       "<tr>\n",
       "  <th>Df Model:</th>              <td>     1</td>      <th>                     </th>     <td> </td>   \n",
       "</tr>\n",
       "<tr>\n",
       "  <th>Covariance Type:</th>      <td>nonrobust</td>    <th>                     </th>     <td> </td>   \n",
       "</tr>\n",
       "</table>\n",
       "<table class=\"simpletable\">\n",
       "<tr>\n",
       "    <td></td>       <th>coef</th>     <th>std err</th>      <th>t</th>      <th>P>|t|</th>  <th>[0.025</th>    <th>0.975]</th>  \n",
       "</tr>\n",
       "<tr>\n",
       "  <th>const</th> <td>    2.4837</td> <td>    2.532</td> <td>    0.981</td> <td> 0.337</td> <td>   -2.753</td> <td>    7.721</td>\n",
       "</tr>\n",
       "<tr>\n",
       "  <th>x1</th>    <td>    9.7758</td> <td>    0.453</td> <td>   21.583</td> <td> 0.000</td> <td>    8.839</td> <td>   10.713</td>\n",
       "</tr>\n",
       "</table>\n",
       "<table class=\"simpletable\">\n",
       "<tr>\n",
       "  <th>Omnibus:</th>       <td> 7.616</td> <th>  Durbin-Watson:     </th> <td>   1.460</td>\n",
       "</tr>\n",
       "<tr>\n",
       "  <th>Prob(Omnibus):</th> <td> 0.022</td> <th>  Jarque-Bera (JB):  </th> <td>   2.137</td>\n",
       "</tr>\n",
       "<tr>\n",
       "  <th>Skew:</th>          <td>-0.216</td> <th>  Prob(JB):          </th> <td>   0.343</td>\n",
       "</tr>\n",
       "<tr>\n",
       "  <th>Kurtosis:</th>      <td> 1.634</td> <th>  Cond. No.          </th> <td>    13.0</td>\n",
       "</tr>\n",
       "</table><br/><br/>Notes:<br/>[1] Standard Errors assume that the covariance matrix of the errors is correctly specified."
      ],
      "text/plain": [
       "<class 'statsmodels.iolib.summary.Summary'>\n",
       "\"\"\"\n",
       "                            OLS Regression Results                            \n",
       "==============================================================================\n",
       "Dep. Variable:                      y   R-squared:                       0.953\n",
       "Model:                            OLS   Adj. R-squared:                  0.951\n",
       "Method:                 Least Squares   F-statistic:                     465.8\n",
       "Date:                Wed, 10 May 2023   Prob (F-statistic):           9.13e-17\n",
       "Time:                        20:50:12   Log-Likelihood:                -77.514\n",
       "No. Observations:                  25   AIC:                             159.0\n",
       "Df Residuals:                      23   BIC:                             161.5\n",
       "Df Model:                           1                                         \n",
       "Covariance Type:            nonrobust                                         \n",
       "==============================================================================\n",
       "                 coef    std err          t      P>|t|      [0.025      0.975]\n",
       "------------------------------------------------------------------------------\n",
       "const          2.4837      2.532      0.981      0.337      -2.753       7.721\n",
       "x1             9.7758      0.453     21.583      0.000       8.839      10.713\n",
       "==============================================================================\n",
       "Omnibus:                        7.616   Durbin-Watson:                   1.460\n",
       "Prob(Omnibus):                  0.022   Jarque-Bera (JB):                2.137\n",
       "Skew:                          -0.216   Prob(JB):                        0.343\n",
       "Kurtosis:                       1.634   Cond. No.                         13.0\n",
       "==============================================================================\n",
       "\n",
       "Notes:\n",
       "[1] Standard Errors assume that the covariance matrix of the errors is correctly specified.\n",
       "\"\"\""
      ]
     },
     "execution_count": 41,
     "metadata": {},
     "output_type": "execute_result"
    }
   ],
   "source": [
    "model.summary()"
   ]
  },
  {
   "cell_type": "markdown",
   "id": "f9447d13",
   "metadata": {},
   "source": [
    "# So finally implemented the OLS method by Python to predict student scores"
   ]
  },
  {
   "cell_type": "code",
   "execution_count": null,
   "id": "a7195e16",
   "metadata": {},
   "outputs": [],
   "source": []
  }
 ],
 "metadata": {
  "kernelspec": {
   "display_name": "Python 3",
   "language": "python",
   "name": "python3"
  },
  "language_info": {
   "codemirror_mode": {
    "name": "ipython",
    "version": 3
   },
   "file_extension": ".py",
   "mimetype": "text/x-python",
   "name": "python",
   "nbconvert_exporter": "python",
   "pygments_lexer": "ipython3",
   "version": "3.7.10"
  }
 },
 "nbformat": 4,
 "nbformat_minor": 5
}
